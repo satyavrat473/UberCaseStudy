{
 "cells": [
  {
   "cell_type": "code",
   "execution_count": 3,
   "metadata": {},
   "outputs": [],
   "source": [
    "import os\n",
    "import sys\n",
    "\n",
    "os.environ[\"SPARK_HOME\"] = \"/usr/hdp/current/spark2-client\"\n",
    "os.environ[\"PYLIB\"] = os.environ[\"SPARK_HOME\"] + \"/python/lib\"\n",
    "sys.path.insert(0, os.environ[\"PYLIB\"] + \"/py4j-0.10.6-src.zip\")\n",
    "sys.path.insert(0, os.environ[\"PYLIB\"] + \"/pyspark.zip\")"
   ]
  },
  {
   "cell_type": "code",
   "execution_count": 4,
   "metadata": {},
   "outputs": [],
   "source": [
    "## Create SparkContext, SparkSession\n",
    "from os.path import expanduser, join, abspath\n",
    "\n",
    "from pyspark.sql import SparkSession\n",
    "from pyspark.sql import Row\n",
    "\n",
    "# warehouse_location points to the default location for managed databases and tables\n",
    "warehouse_location = 'hdfs:///apps/hive/warehouse/'\n",
    "\n",
    "spark = SparkSession \\\n",
    "    .builder \\\n",
    "    .appName(\"Machine Learning Example using Spark ML\") \\\n",
    "    .config(\"spark.sql.warehouse.dir\", warehouse_location) \\\n",
    "    .enableHiveSupport() \\\n",
    "    .getOrCreate()"
   ]
  },
  {
   "cell_type": "code",
   "execution_count": 5,
   "metadata": {},
   "outputs": [
    {
     "data": {
      "text/html": [
       "\n",
       "            <div>\n",
       "                <p><b>SparkSession - hive</b></p>\n",
       "                \n",
       "        <div>\n",
       "            <p><b>SparkContext</b></p>\n",
       "\n",
       "            <p><a href=\"http://d.insofe.edu.in:4041\">Spark UI</a></p>\n",
       "\n",
       "            <dl>\n",
       "              <dt>Version</dt>\n",
       "                <dd><code>v2.3.0.2.6.5.0-292</code></dd>\n",
       "              <dt>Master</dt>\n",
       "                <dd><code>local[*]</code></dd>\n",
       "              <dt>AppName</dt>\n",
       "                <dd><code>Machine Learning Example using Spark ML</code></dd>\n",
       "            </dl>\n",
       "        </div>\n",
       "        \n",
       "            </div>\n",
       "        "
      ],
      "text/plain": [
       "<pyspark.sql.session.SparkSession at 0x3873e50>"
      ]
     },
     "execution_count": 5,
     "metadata": {},
     "output_type": "execute_result"
    }
   ],
   "source": [
    "spark"
   ]
  },
  {
   "cell_type": "code",
   "execution_count": 64,
   "metadata": {},
   "outputs": [],
   "source": [
    "#Define Schema\n",
    "from pyspark.sql.types import *\n",
    "from pyspark.sql.functions import *\n",
    "\n",
    "uberDataSchema = StructType([\n",
    "    StructField(\"DateTime\", StringType(), True),\n",
    "    StructField(\"Latitude\", StringType(), True),\n",
    "    StructField(\"Longitude\", StringType(), True),\n",
    "    StructField(\"CompanyId\", StringType(), True),\n",
    "])"
   ]
  },
  {
   "cell_type": "code",
   "execution_count": 65,
   "metadata": {},
   "outputs": [],
   "source": [
    "uberDf = spark.read.format(\"csv\")\\\n",
    ".option(\"header\",\"false\")\\\n",
    ".option(\"inferSchema\",\"true\")\\\n",
    ".load(\"hdfs://bigdata:8020/user/2573B55/UberData\", schema=uberDataSchema)"
   ]
  },
  {
   "cell_type": "code",
   "execution_count": 66,
   "metadata": {},
   "outputs": [
    {
     "data": {
      "text/plain": [
       "DataFrame[DateTime: string, Latitude: string, Longitude: string, CompanyId: string]"
      ]
     },
     "execution_count": 66,
     "metadata": {},
     "output_type": "execute_result"
    }
   ],
   "source": [
    "#hdfs dfs -cat hdfs://bigdata:8020/user/2573B55/UberData/* | wc -l\n",
    "#uberDf\n",
    "uberDf"
   ]
  },
  {
   "cell_type": "code",
   "execution_count": 69,
   "metadata": {},
   "outputs": [
    {
     "name": "stdout",
     "output_type": "stream",
     "text": [
      "+--------+\n",
      "|count(1)|\n",
      "+--------+\n",
      "|       0|\n",
      "+--------+\n",
      "\n"
     ]
    }
   ],
   "source": [
    "uberDf.createOrReplaceTempView(\"uberDataTable\")\n",
    "spark.sql('select count(*) from uberDataTable where Latitude is NULL or Longitude is NULL').show()"
   ]
  },
  {
   "cell_type": "code",
   "execution_count": 68,
   "metadata": {},
   "outputs": [],
   "source": [
    "## Replace NULL values with zeroes\n",
    "from pyspark.sql.functions import when\n",
    "uberDf = uberDf.withColumn('Latitude', when(uberDf.Latitude.isNotNull(), \n",
    "                                           uberDf.Latitude).otherwise(0))\n",
    "uberDf = uberDf.withColumn('Longitude', when(uberDf.Longitude.isNotNull(), \n",
    "                                           uberDf.Longitude).otherwise(0))\n",
    "#df = df.na.drop()\n",
    "#df.show()\n",
    "#zeroBalance = uberDf.where(uberDf.Longitude < 0)\n",
    "#zeroBalance.count()"
   ]
  },
  {
   "cell_type": "code",
   "execution_count": 23,
   "metadata": {},
   "outputs": [],
   "source": [
    "#uberDf = uberDf.withColumnRenamed('_c0','DateTime')\n",
    "#uberDf = uberDf.withColumnRenamed('_c1','Latitude')\n",
    "#uberDf = uberDf.withColumnRenamed('_c2','Longitude')\n",
    "#uberDf = uberDf.withColumnRenamed('_c3','CompanyId')"
   ]
  },
  {
   "cell_type": "code",
   "execution_count": 70,
   "metadata": {},
   "outputs": [],
   "source": [
    "(trainingData, sampleData) = uberDf.randomSplit([0.8, 0.2])"
   ]
  },
  {
   "cell_type": "code",
   "execution_count": 90,
   "metadata": {},
   "outputs": [],
   "source": [
    "sampleData = sampleData.selectExpr(\"cast(Latitude as double) Latitude\", \n",
    "                        \"cast(Longitude as double) Longitude\")\n",
    "trainingData = trainingData.selectExpr(\"cast(Latitude as double) Latitude\", \n",
    "                        \"cast(Longitude as double) Longitude\")\n",
    "sampleData = sampleData.na.drop()\n",
    "trainingData = trainingData.na.drop()"
   ]
  },
  {
   "cell_type": "code",
   "execution_count": 76,
   "metadata": {},
   "outputs": [
    {
     "data": {
      "text/plain": [
       "DataFrame[Latitude: double, Longitude: double]"
      ]
     },
     "execution_count": 76,
     "metadata": {},
     "output_type": "execute_result"
    }
   ],
   "source": [
    "sampleData"
   ]
  },
  {
   "cell_type": "code",
   "execution_count": 88,
   "metadata": {},
   "outputs": [
    {
     "name": "stdout",
     "output_type": "stream",
     "text": [
      "+--------+\n",
      "|count(1)|\n",
      "+--------+\n",
      "|       0|\n",
      "+--------+\n",
      "\n"
     ]
    }
   ],
   "source": [
    "sampleData.createOrReplaceTempView(\"sampleDataTable\")\n",
    "spark.sql('select count(*) from sampleDataTable where Latitude is NULL or Longitude is NULL').show()"
   ]
  },
  {
   "cell_type": "code",
   "execution_count": 77,
   "metadata": {},
   "outputs": [],
   "source": [
    "from pyspark.ml.feature import VectorAssembler\n",
    "\n",
    "assembler = VectorAssembler(inputCols = ['Latitude', 'Longitude'],\n",
    "                            outputCol='num_features_all')"
   ]
  },
  {
   "cell_type": "code",
   "execution_count": 78,
   "metadata": {},
   "outputs": [],
   "source": [
    "from pyspark.ml.feature import MinMaxScaler\n",
    "min_Max_Scalar_NumVars = MinMaxScaler(inputCol=\"num_features_all\", \n",
    "                                      outputCol = \"scaled_num_features\")"
   ]
  },
  {
   "cell_type": "code",
   "execution_count": 79,
   "metadata": {},
   "outputs": [],
   "source": [
    "from pyspark.ml import Pipeline\n",
    "preprocessiong_Stages = [assembler] +\\\n",
    "                        [min_Max_Scalar_NumVars]\n",
    "\n",
    "new_data_mod = Pipeline(stages=preprocessiong_Stages)\n",
    "new_data_trnfm = new_data_mod.fit(sampleData)\n",
    "new_data = new_data_trnfm.transform(sampleData)"
   ]
  },
  {
   "cell_type": "code",
   "execution_count": null,
   "metadata": {},
   "outputs": [],
   "source": []
  },
  {
   "cell_type": "code",
   "execution_count": null,
   "metadata": {},
   "outputs": [],
   "source": []
  },
  {
   "cell_type": "code",
   "execution_count": 80,
   "metadata": {},
   "outputs": [],
   "source": [
    "features = new_data.select(\"num_features_all\")"
   ]
  },
  {
   "cell_type": "code",
   "execution_count": 105,
   "metadata": {},
   "outputs": [
    {
     "name": "stdout",
     "output_type": "stream",
     "text": [
      "+--------+---------+\n",
      "|Latitude|Longitude|\n",
      "+--------+---------+\n",
      "| 40.7116| -73.9531|\n",
      "| 40.7254| -74.0001|\n",
      "| 40.7502| -73.9944|\n",
      "| 40.7103| -73.9634|\n",
      "| 40.7604| -73.9706|\n",
      "| 40.7699| -73.8638|\n",
      "| 40.7172| -73.8467|\n",
      "| 40.8001| -73.9716|\n",
      "| 40.8876| -73.9088|\n",
      "| 40.7221| -73.9839|\n",
      "| 40.7541| -73.9736|\n",
      "|  40.735| -74.0003|\n",
      "| 40.7567| -73.9786|\n",
      "| 40.7488| -74.0021|\n",
      "| 40.7687| -73.8628|\n",
      "| 40.7387| -74.0091|\n",
      "| 40.7217| -73.9934|\n",
      "| 40.6375|  -73.903|\n",
      "| 40.6894| -73.9706|\n",
      "| 40.6978| -73.9942|\n",
      "+--------+---------+\n",
      "only showing top 20 rows\n",
      "\n"
     ]
    }
   ],
   "source": [
    "new_data.show()"
   ]
  },
  {
   "cell_type": "code",
   "execution_count": 82,
   "metadata": {},
   "outputs": [
    {
     "data": {
      "text/plain": [
       "0.5863960799532042"
      ]
     },
     "execution_count": 82,
     "metadata": {},
     "output_type": "execute_result"
    }
   ],
   "source": [
    "#Just like that-no relevance block\n",
    "from pyspark.ml.clustering import KMeans\n",
    "from pyspark.ml.evaluation import ClusteringEvaluator\n",
    "kmeans = KMeans(featuresCol='scaled_num_features', k=2, seed=1)\n",
    "model = kmeans.fit(new_data)\n",
    "centers = model.clusterCenters()\n",
    "len(centers)\n",
    "\n",
    "model.computeCost(new_data)"
   ]
  },
  {
   "cell_type": "code",
   "execution_count": 83,
   "metadata": {},
   "outputs": [],
   "source": [
    "import numpy as np\n",
    "cost = np.zeros(20)\n",
    "for k in range(2,20):\n",
    "    kmeans = KMeans().setK(k).setSeed(1).setFeaturesCol(\"scaled_num_features\")\n",
    "    model = kmeans.fit(new_data.sample(False,0.1, seed=42))\n",
    "    cost[k] = model.computeCost(new_data) # requires Spark 2.0 or later"
   ]
  },
  {
   "cell_type": "code",
   "execution_count": 84,
   "metadata": {},
   "outputs": [
    {
     "data": {
      "text/plain": [
       "<matplotlib.text.Text at 0x4d80bd0>"
      ]
     },
     "execution_count": 84,
     "metadata": {},
     "output_type": "execute_result"
    },
    {
     "data": {
      "image/png": "[encoded data removed]",
      "text/plain": [
       "<matplotlib.figure.Figure at 0x4d84090>"
      ]
     },
     "metadata": {},
     "output_type": "display_data"
    }
   ],
   "source": [
    "import matplotlib.pyplot as plt\n",
    "%matplotlib inline\n",
    "fig, ax = plt.subplots(1,1, figsize =(8,6))\n",
    "ax.plot(range(2,20),cost[2:20])\n",
    "ax.set_xlabel('k')\n",
    "ax.set_ylabel('cost')\n",
    "#Look like there is very little gain after k=10, so we stick to that choice when processing the full data set."
   ]
  },
  {
   "cell_type": "markdown",
   "metadata": {},
   "source": [
    "### Train the machine learning model"
   ]
  },
  {
   "cell_type": "code",
   "execution_count": 155,
   "metadata": {},
   "outputs": [
    {
     "name": "stdout",
     "output_type": "stream",
     "text": [
      "+--------+---------+------------------+--------------------+----------+\n",
      "|Latitude|Longitude|  num_features_all| scaled_num_features|prediction|\n",
      "+--------+---------+------------------+--------------------+----------+\n",
      "| 40.7116| -73.9531|[40.7116,-73.9531]|[0.62615768226074...|         9|\n",
      "| 40.7254| -74.0001|[40.7254,-74.0001]|[0.63435051056756...|         9|\n",
      "| 40.7502| -73.9944|[40.7502,-73.9944]|[0.64907385419140...|         0|\n",
      "| 40.7103| -73.9634|[40.7103,-73.9634]|[0.62538589408691...|         9|\n",
      "| 40.7604| -73.9706|[40.7604,-73.9706]|[0.65512942293991...|         0|\n",
      "+--------+---------+------------------+--------------------+----------+\n",
      "only showing top 5 rows\n",
      "\n"
     ]
    }
   ],
   "source": [
    "from pyspark.ml import Pipeline\n",
    "from pyspark.ml.clustering import KMeans\n",
    "from pyspark.ml.evaluation import ClusteringEvaluator\n",
    "\n",
    "kmeans = KMeans(featuresCol='scaled_num_features', k=10, seed=1)\n",
    "\n",
    "kmeans_Pipeline = Pipeline(stages=preprocessiong_Stages+[kmeans])\n",
    "#kmeans_Pipeline_model = kmeans_Pipeline.fit(sampleData)\n",
    "kmeans_Pipeline_model = kmeans_Pipeline.fit(trainingData)\n",
    "\n",
    "kmeans_Pipeline_model.transform(sampleData).show(5)"
   ]
  },
  {
   "cell_type": "code",
   "execution_count": 156,
   "metadata": {},
   "outputs": [
    {
     "data": {
      "text/plain": [
       "[array([0.65679832, 0.33789608]),\n",
       " array([0.655792  , 0.38037398]),\n",
       " array([0.59121169, 0.41700129]),\n",
       " array([0.33271669, 0.30616807]),\n",
       " array([0.59330555, 0.16090715]),\n",
       " array([0.60612331, 0.34153338]),\n",
       " array([0.70327182, 0.3552458 ]),\n",
       " array([0.73237852, 0.49696606]),\n",
       " array([0.62135337, 0.25556115]),\n",
       " array([0.63578551, 0.33060959])]"
      ]
     },
     "execution_count": 156,
     "metadata": {},
     "output_type": "execute_result"
    }
   ],
   "source": [
    "#Printing Clusters\n",
    "kmeans_Pipeline_model.stages[-1].clusterCenters()"
   ]
  },
  {
   "cell_type": "code",
   "execution_count": 99,
   "metadata": {},
   "outputs": [
    {
     "name": "stdout",
     "output_type": "stream",
     "text": [
      "Cluster Centers: \n",
      "[0.65679832 0.33789608]\n",
      "[0.655792   0.38037398]\n",
      "[0.59121169 0.41700129]\n",
      "[0.33271669 0.30616807]\n",
      "[0.59330555 0.16090715]\n",
      "[0.60612331 0.34153338]\n",
      "[0.70327182 0.3552458 ]\n",
      "[0.73237852 0.49696606]\n",
      "[0.62135337 0.25556115]\n",
      "[0.63578551 0.33060959]\n"
     ]
    }
   ],
   "source": [
    "from pyspark.ml.clustering import KMeans\n",
    "k = 10\n",
    "kmeans = KMeans().setK(k).setSeed(1).setFeaturesCol(\"scaled_num_features\")\n",
    "model = kmeans.fit(new_data)\n",
    "centers = model.clusterCenters()\n",
    "\n",
    "print(\"Cluster Centers: \")\n",
    "for center in centers:\n",
    "    print(center)"
   ]
  },
  {
   "cell_type": "code",
   "execution_count": 91,
   "metadata": {},
   "outputs": [],
   "source": [
    "from pyspark.ml import Pipeline\n",
    "preprocessiong_Stages = [assembler] +\\\n",
    "                        [min_Max_Scalar_NumVars]\n",
    "\n",
    "new_data_mod = Pipeline(stages=preprocessiong_Stages)\n",
    "new_data_trnfm = new_data_mod.fit(trainingData)\n",
    "new_data = new_data_trnfm.transform(trainingData)"
   ]
  },
  {
   "cell_type": "code",
   "execution_count": 157,
   "metadata": {},
   "outputs": [],
   "source": [
    "kmeans_Pipeline_model.write().overwrite().save('file:////home/2573B55/uberModel')"
   ]
  },
  {
   "cell_type": "markdown",
   "metadata": {},
   "source": [
    "# Creating Consumer"
   ]
  },
  {
   "cell_type": "code",
   "execution_count": null,
   "metadata": {},
   "outputs": [],
   "source": [
    "# Create __SparkSession__ object\n",
    "# \n",
    "#     The entry point to programming Spark with the Dataset and DataFrame API.\n",
    "# \n",
    "#     Used to create DataFrame, register DataFrame as tables and execute SQL over tables etc.\n",
    "\n",
    "from pyspark.sql import SparkSession\n",
    "\n",
    "# Import the necessary classes and create a local SparkSession, the starting point of all functionalities related to Spark.\n",
    "from pyspark.sql.types import *\n",
    "from pyspark.sql.functions import *\n",
    "from pyspark.sql.functions import col,udf\n",
    "\n",
    "from pyspark.ml import Pipeline, PipelineModel\n",
    "from pyspark.ml.clustering import \n",
    "\n",
    "spark = SparkSession \\\n",
    "    .builder \\\n",
    "    .appName(\"Kafka Spark Structured Streaming\") \\\n",
    "    .config(\"spark.master\", \"local\") \\\n",
    "    .getOrCreate()\n",
    "\n",
    "spark.sparkContext.setLogLevel(\"ERROR\")\n",
    "\n",
    "# Loading the pipeline model\n",
    "model = PipelineModel.load(\"file:///home/manasm/Uber_Use_Case/Model/KmeansModel/\")\n",
    "\n",
    "print(model)\n",
    "\n",
    "# Reading the messsages from the kafka topic and creating a data frame\n",
    "df = spark \\\n",
    "  .readStream \\\n",
    "  .format(\"kafka\") \\\n",
    "  .option(\"kafka.bootstrap.servers\", \"c.insofe.edu.in:9092\") \\\n",
    "  .option(\"subscribe\", \"UberAppB55\") \\\n",
    "  .option(\"startingOffsets\", \"earliest\") \\\n",
    "  .load()\n",
    "\n",
    "df.printSchema()\n",
    "\n",
    "# Converting the columns to appropriate data types\n",
    "df = df.select(col(\"value\").cast(\"string\"), col(\"timestamp\"))\n",
    "\n",
    "# Splitting the value column based on comma delimiter and creating the columns Date,Latitude,Longitude, ID and Status columns\n",
    "df = df.withColumn('Date', split(df.value, \",\")[0])\n",
    "df = df.withColumn('Latitude', split(df.value, \",\")[1])\n",
    "df = df.withColumn('Longitude', split(df.value, \",\")[2])\n",
    "df = df.withColumn('ID', split(df.value, \",\")[3])\n",
    "df = df.withColumn('Status', split(df.value, \",\")[4])\n",
    "df = df.select(\"Date\",\"Latitude\",\"Longitude\", \"ID\",\"Status\",\"timestamp\")\n",
    "\n",
    "# Converting the Latitude and Longitude columns to double data type\n",
    "df = df.withColumn(\"Latitude\", df[\"Latitude\"].cast(\"double\"))\n",
    "df = df.withColumn(\"Longitude\", df[\"Longitude\"].cast(\"double\"))\n",
    "\n",
    "df.printSchema()\n",
    "# Filtering the records with status Active (\"A\")\n",
    "df = df[df.Status == '\"A\"']\n",
    "\n",
    "# Predicting the cluster numbers on the streaming data\n",
    "test_predictions_lr = model.transform(df)\n",
    "\n",
    "# Writing the predictions to a permanent storage\n",
    "# Spark structured streaming only supports \"parquet\" format for now.\n",
    "# The output mode should be in append mode and also the checkpoint location needs to be mentioned.\n",
    "query = test_predictions_lr \\\n",
    "        .writeStream \\\n",
    "        .format(\"parquet\") \\\n",
    "        .outputMode(\"append\") \\\n",
    "        .option(\"truncate\",\"false\") \\\n",
    "        .option(\"path\", \"file:///home/manasm/Uber_Use_Case/results/output\") \\\n",
    "        .option(\"checkpointLocation\", \"file:///home/manasm/Uber_Use_Case/results/outputCP\") \\\n",
    "        .start()\n",
    "\n",
    "#Start running the query that prints the running counts to the console\n",
    "query = test_predictions_lr \\\n",
    "        .writeStream \\\n",
    "        .format(\"console\") \\\n",
    "        .outputMode(\"append\") \\\n",
    "        .option(\"truncate\",\"false\") \\\n",
    "        .start()\n",
    "\n",
    "query.awaitTermination()"
   ]
  }
 ],
 "metadata": {
  "kernelspec": {
   "display_name": "Python 2",
   "language": "python",
   "name": "python2"
  },
  "language_info": {
   "codemirror_mode": {
    "name": "ipython",
    "version": 2
   },
   "file_extension": ".py",
   "mimetype": "text/x-python",
   "name": "python",
   "nbconvert_exporter": "python",
   "pygments_lexer": "ipython2",
   "version": "2.7.5"
  }
 },
 "nbformat": 4,
 "nbformat_minor": 2
}
